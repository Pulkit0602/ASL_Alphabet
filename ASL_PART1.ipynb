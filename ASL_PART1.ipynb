{
  "nbformat": 4,
  "nbformat_minor": 0,
  "metadata": {
    "colab": {
      "name": "ASL_PART1.ipynb",
      "provenance": []
    },
    "kernelspec": {
      "name": "python3",
      "display_name": "Python 3"
    },
    "language_info": {
      "name": "python"
    },
    "gpuClass": "standard",
    "accelerator": "GPU"
  },
  "cells": [
    {
      "cell_type": "markdown",
      "source": [
        "## INCLUDES \n",
        "1. DATA PREPROCESSING USING (tf.keras.preprocessing.image_dataset_from_directory)\n",
        "2. MODEL TRAINING"
      ],
      "metadata": {
        "id": "ZVOBzUk0Qxhq"
      }
    },
    {
      "cell_type": "code",
      "execution_count": null,
      "metadata": {
        "id": "Ej-noKKoQuen"
      },
      "outputs": [],
      "source": [
        "!unzip /content/drive/MyDrive/ASL/archive.zip"
      ]
    },
    {
      "cell_type": "markdown",
      "source": [
        "### Import Necessary Libraries"
      ],
      "metadata": {
        "id": "ThQ61Xh9RcjZ"
      }
    },
    {
      "cell_type": "code",
      "source": [
        "import pandas as pd\n",
        "import numpy as np\n",
        "import matplotlib.pyplot as plt\n",
        "\n",
        "import tensorflow as tf\n",
        "import pathlib\n",
        "from tensorflow import keras\n",
        "from tensorflow.keras import layers"
      ],
      "metadata": {
        "id": "tFjIZYNrRcLr"
      },
      "execution_count": 1,
      "outputs": []
    },
    {
      "cell_type": "markdown",
      "source": [
        "####  DATALOADER FOR TRAIN DATA"
      ],
      "metadata": {
        "id": "O35yltvbCT2W"
      }
    },
    {
      "cell_type": "code",
      "source": [
        "directory = \"/content/asl_alphabet_train/asl_alphabet_train\"\n"
      ],
      "metadata": {
        "id": "9NUa1vugUfsJ"
      },
      "execution_count": 2,
      "outputs": []
    },
    {
      "cell_type": "code",
      "source": [
        "train = tf.keras.preprocessing.image_dataset_from_directory(\n",
        "    directory,\n",
        "    labels=\"inferred\", # To taKe the lables from the folder directory \n",
        "    label_mode=\"int\",    # That lables are Categorical\n",
        "    class_names=None,         #\n",
        "    color_mode=\"grayscale\",   #Conert Image to gray scale\n",
        "    batch_size=16,            # Take Batch size as 16 \n",
        "    image_size=(28, 28),    # Resize image into a particular size 128*128\n",
        "    shuffle=True,\n",
        "    subset=\"training\",\n",
        "    validation_split=0.2,  \n",
        "    seed=1337,           # Shuffle for better training Performance\n",
        ")"
      ],
      "metadata": {
        "colab": {
          "base_uri": "https://localhost:8080/"
        },
        "id": "-z_2tA-xR2XD",
        "outputId": "f6d32cf1-84b8-480a-ec18-207f09822b45"
      },
      "execution_count": 5,
      "outputs": [
        {
          "output_type": "stream",
          "name": "stdout",
          "text": [
            "Found 87000 files belonging to 29 classes.\n",
            "Using 69600 files for training.\n"
          ]
        }
      ]
    },
    {
      "cell_type": "markdown",
      "source": [
        "####  DATALOADER FOR TEST DATA"
      ],
      "metadata": {
        "id": "FC7h2umBCNtO"
      }
    },
    {
      "cell_type": "code",
      "source": [
        "test_ds = tf.keras.preprocessing.image_dataset_from_directory(\n",
        "    directory,\n",
        "    labels=\"inferred\",      # To taKe the lables from the folder directory \n",
        "    label_mode=\"int\", # That lables are Categorical\n",
        "    class_names=None,         #\n",
        "    color_mode=\"grayscale\",   #Conert Image to gray scale\n",
        "    batch_size=16,            # Take Batch size as 16 \n",
        "    image_size=(28, 28),    # Resize image into a particular size 128*128\n",
        "    shuffle=True,    \n",
        "    subset=\"validation\",\n",
        "    validation_split=0.2,  \n",
        "    seed=1337,           # Shuffle for better training Performance\n",
        ")"
      ],
      "metadata": {
        "colab": {
          "base_uri": "https://localhost:8080/"
        },
        "id": "lJw3n_cLnIok",
        "outputId": "905eee31-410b-475e-b012-84926146061f"
      },
      "execution_count": 6,
      "outputs": [
        {
          "output_type": "stream",
          "name": "stdout",
          "text": [
            "Found 87000 files belonging to 29 classes.\n",
            "Using 17400 files for validation.\n"
          ]
        }
      ]
    },
    {
      "cell_type": "markdown",
      "source": [
        "### DATA UNDERSTANDING"
      ],
      "metadata": {
        "id": "1pOcHDlP1qQQ"
      }
    },
    {
      "cell_type": "code",
      "source": [
        "train_iter = iter(train)\n",
        "X,y  = train_iter.next()"
      ],
      "metadata": {
        "id": "uxDG807r1xxp"
      },
      "execution_count": 7,
      "outputs": []
    },
    {
      "cell_type": "code",
      "source": [
        "print(\"Input Batch Shape: \" , X.shape)\n",
        "print(\"Input Ground Truth Shape: \" , y.shape)"
      ],
      "metadata": {
        "colab": {
          "base_uri": "https://localhost:8080/"
        },
        "id": "Sc13xwuV107i",
        "outputId": "9a1342ce-e7f3-4522-9b1f-fd8f6058d0a8"
      },
      "execution_count": 37,
      "outputs": [
        {
          "output_type": "stream",
          "name": "stdout",
          "text": [
            "Input Batch Shape:  (16, 28, 28, 1)\n",
            "Input Ground Truth Shape:  (16,)\n"
          ]
        }
      ]
    },
    {
      "cell_type": "markdown",
      "source": [
        "#DATA VISUALIZATION"
      ],
      "metadata": {
        "id": "9ns4AjCCYALI"
      }
    },
    {
      "cell_type": "code",
      "source": [
        "import matplotlib.pyplot as plt\n",
        "\n",
        "plt.figure(figsize=(10, 10))\n",
        "for images, labels in train.take(1):\n",
        "    for i in range(9):       \n",
        "        ax = plt.subplot(3, 3, i + 1)        \n",
        "        plt.imshow(images[i].numpy().astype(\"uint8\").reshape((28, 28)))\n",
        "        plt.title(int(labels[i]))        \n",
        "        plt.axis(\"off\")"
      ],
      "metadata": {
        "colab": {
          "base_uri": "https://localhost:8080/",
          "height": 591
        },
        "id": "eWlb6FIuYcVi",
        "outputId": "a7f6ddc3-b9ee-4ab2-89b7-8d8477ef06f6"
      },
      "execution_count": 9,
      "outputs": [
        {
          "output_type": "display_data",
          "data": {
            "text/plain": [
              "<Figure size 720x720 with 9 Axes>"
            ],
            "image/png": "[encoded data removed]"
          },
          "metadata": {
            "needs_background": "light"
          }
        }
      ]
    },
    {
      "cell_type": "markdown",
      "source": [
        "## MODEL BUILDING"
      ],
      "metadata": {
        "id": "b1Je0jS_CJOe"
      }
    },
    {
      "cell_type": "code",
      "source": [
        "model = keras.Sequential([    \n",
        "    layers.Input((28, 28, 1)),    \n",
        "    layers.Conv2D(32, 3, activation=\"relu\", padding=\"same\"),\n",
        "    layers.MaxPooling2D(),\n",
        "    layers.BatchNormalization(),\n",
        "    layers.Conv2D(64, 3, activation=\"relu\", padding=\"same\"),\n",
        "    layers.MaxPooling2D(),\n",
        "    layers.BatchNormalization(),\n",
        "    layers.Conv2D(128, 3, activation=\"relu\", padding=\"same\"),\n",
        "    layers.MaxPooling2D(),\n",
        "    layers.BatchNormalization(),\n",
        "    layers.Flatten(),    \n",
        "    layers.Dense(512, activation=\"relu\"),    \n",
        "    layers.Dropout(0.4),\n",
        "    layers.Dense(256, activation=\"relu\"),    \n",
        "    layers.Dropout(0.4),\n",
        "    layers.Dense(64, activation=\"relu\"),\n",
        "    layers.Dropout(0.3),\n",
        "    layers.Dense(29, activation=\"softmax\")\n",
        "])\n",
        "\n",
        "#Compile Model\n",
        "model.compile(loss=\"sparse_categorical_crossentropy\",\n",
        "              optimizer=keras.optimizers.Adam(1e-3), metrics=[\"accuracy\"])"
      ],
      "metadata": {
        "id": "NVv136JS4uoG"
      },
      "execution_count": 28,
      "outputs": []
    },
    {
      "cell_type": "code",
      "source": [
        "print(model.summary())"
      ],
      "metadata": {
        "colab": {
          "base_uri": "https://localhost:8080/"
        },
        "id": "Ywbbw4GP6teJ",
        "outputId": "56342af1-40a4-403b-e927-9e67b1e0c006"
      },
      "execution_count": 29,
      "outputs": [
        {
          "output_type": "stream",
          "name": "stdout",
          "text": [
            "Model: \"sequential_7\"\n",
            "_________________________________________________________________\n",
            " Layer (type)                Output Shape              Param #   \n",
            "=================================================================\n",
            " conv2d_24 (Conv2D)          (None, 28, 28, 32)        320       \n",
            "                                                                 \n",
            " max_pooling2d_24 (MaxPoolin  (None, 14, 14, 32)       0         \n",
            " g2D)                                                            \n",
            "                                                                 \n",
            " batch_normalization_24 (Bat  (None, 14, 14, 32)       128       \n",
            " chNormalization)                                                \n",
            "                                                                 \n",
            " conv2d_25 (Conv2D)          (None, 14, 14, 64)        18496     \n",
            "                                                                 \n",
            " max_pooling2d_25 (MaxPoolin  (None, 7, 7, 64)         0         \n",
            " g2D)                                                            \n",
            "                                                                 \n",
            " batch_normalization_25 (Bat  (None, 7, 7, 64)         256       \n",
            " chNormalization)                                                \n",
            "                                                                 \n",
            " conv2d_26 (Conv2D)          (None, 7, 7, 128)         73856     \n",
            "                                                                 \n",
            " max_pooling2d_26 (MaxPoolin  (None, 3, 3, 128)        0         \n",
            " g2D)                                                            \n",
            "                                                                 \n",
            " batch_normalization_26 (Bat  (None, 3, 3, 128)        512       \n",
            " chNormalization)                                                \n",
            "                                                                 \n",
            " flatten_1 (Flatten)         (None, 1152)              0         \n",
            "                                                                 \n",
            " dense_22 (Dense)            (None, 512)               590336    \n",
            "                                                                 \n",
            " dropout_11 (Dropout)        (None, 512)               0         \n",
            "                                                                 \n",
            " dense_23 (Dense)            (None, 256)               131328    \n",
            "                                                                 \n",
            " dropout_12 (Dropout)        (None, 256)               0         \n",
            "                                                                 \n",
            " dense_24 (Dense)            (None, 64)                16448     \n",
            "                                                                 \n",
            " dropout_13 (Dropout)        (None, 64)                0         \n",
            "                                                                 \n",
            " dense_25 (Dense)            (None, 29)                1885      \n",
            "                                                                 \n",
            "=================================================================\n",
            "Total params: 833,565\n",
            "Trainable params: 833,117\n",
            "Non-trainable params: 448\n",
            "_________________________________________________________________\n",
            "None\n"
          ]
        }
      ]
    },
    {
      "cell_type": "code",
      "source": [
        "history = model.fit(train, epochs = 4 , validation_data = test_ds)\n",
        "\n"
      ],
      "metadata": {
        "colab": {
          "base_uri": "https://localhost:8080/"
        },
        "id": "wT4OW8qdm8_t",
        "outputId": "49ac0c45-afef-4151-8f16-726bd0327b6d"
      },
      "execution_count": 30,
      "outputs": [
        {
          "output_type": "stream",
          "name": "stdout",
          "text": [
            "Epoch 1/4\n",
            "4350/4350 [==============================] - 50s 11ms/step - loss: 1.7350 - accuracy: 0.4495 - val_loss: 0.5188 - val_accuracy: 0.8176\n",
            "Epoch 2/4\n",
            "4350/4350 [==============================] - 48s 11ms/step - loss: 0.5223 - accuracy: 0.8279 - val_loss: 0.7435 - val_accuracy: 0.7812\n",
            "Epoch 3/4\n",
            "4350/4350 [==============================] - 49s 11ms/step - loss: 0.3110 - accuracy: 0.9042 - val_loss: 0.1049 - val_accuracy: 0.9641\n",
            "Epoch 4/4\n",
            "4350/4350 [==============================] - 49s 11ms/step - loss: 0.2356 - accuracy: 0.9319 - val_loss: 0.0737 - val_accuracy: 0.9776\n"
          ]
        }
      ]
    },
    {
      "cell_type": "markdown",
      "source": [
        "## PLOTTING THE RESULTS"
      ],
      "metadata": {
        "id": "leARb5mMB-L-"
      }
    },
    {
      "cell_type": "code",
      "source": [
        "plt.plot(history.history['accuracy'], label='train acc')\n",
        "plt.plot(history.history['val_accuracy'], label='val acc')\n",
        "plt.legend()\n",
        "plt.show()\n",
        "plt.savefig('AccVal_acc')"
      ],
      "metadata": {
        "colab": {
          "base_uri": "https://localhost:8080/",
          "height": 285
        },
        "id": "wXzT1AL1ni_u",
        "outputId": "48200eda-43ed-4a50-c82a-88a5acd4f02b"
      },
      "execution_count": 31,
      "outputs": [
        {
          "output_type": "display_data",
          "data": {
            "text/plain": [
              "<Figure size 432x288 with 1 Axes>"
            ],
            "image/png": "[encoded data removed]"
          },
          "metadata": {
            "needs_background": "light"
          }
        },
        {
          "output_type": "display_data",
          "data": {
            "text/plain": [
              "<Figure size 432x288 with 0 Axes>"
            ]
          },
          "metadata": {}
        }
      ]
    },
    {
      "cell_type": "code",
      "source": [
        "plt.plot(history.history['loss'], label='train loss')\n",
        "plt.plot(history.history['val_loss'], label='val loss')\n",
        "plt.legend()\n",
        "plt.show()\n",
        "plt.savefig('LossVal_loss')"
      ],
      "metadata": {
        "colab": {
          "base_uri": "https://localhost:8080/",
          "height": 282
        },
        "id": "zY68Vuzu9i-Y",
        "outputId": "d0316008-de8e-4d4b-cca2-c5d7381990e5"
      },
      "execution_count": 32,
      "outputs": [
        {
          "output_type": "display_data",
          "data": {
            "text/plain": [
              "<Figure size 432x288 with 1 Axes>"
            ],
            "image/png": "[encoded data removed]"
          },
          "metadata": {
            "needs_background": "light"
          }
        },
        {
          "output_type": "display_data",
          "data": {
            "text/plain": [
              "<Figure size 432x288 with 0 Axes>"
            ]
          },
          "metadata": {}
        }
      ]
    },
    {
      "cell_type": "markdown",
      "source": [
        "## Prediction"
      ],
      "metadata": {
        "id": "1p0PihOp-KxY"
      }
    },
    {
      "cell_type": "code",
      "source": [
        "path = \"/content/asl_alphabet_test/asl_alphabet_test/Z_test.jpg\"\n",
        "image_size=(28, 28)\n",
        "img = keras.preprocessing.image.load_img( path ,  color_mode=\"grayscale\" ,  target_size=image_size)\n",
        "img_array = keras.preprocessing.image.img_to_array(img)\n",
        "img_array = tf.expand_dims(img_array, 0)  # Create batch axis\n",
        "\n",
        "predictions = model.predict(img_array)\n",
        "result = str(np.argmax(predictions))\n",
        "\n",
        "\n",
        "plt.imshow(img_array.numpy().astype(\"uint8\").reshape((28, 28)))\n",
        "plt.title(\"Predicted Result \" + result )"
      ],
      "metadata": {
        "colab": {
          "base_uri": "https://localhost:8080/",
          "height": 298
        },
        "id": "k0DP3GVK-jrF",
        "outputId": "b2c33f73-627a-4bd4-a93e-52147ca1a4f7"
      },
      "execution_count": 33,
      "outputs": [
        {
          "output_type": "execute_result",
          "data": {
            "text/plain": [
              "Text(0.5, 1.0, 'Predicted Result 25')"
            ]
          },
          "metadata": {},
          "execution_count": 33
        },
        {
          "output_type": "display_data",
          "data": {
            "text/plain": [
              "<Figure size 432x288 with 1 Axes>"
            ],
            "image/png": "[encoded data removed]"
          },
          "metadata": {
            "needs_background": "light"
          }
        }
      ]
    },
    {
      "cell_type": "markdown",
      "source": [
        "### SAVING THE MODEL"
      ],
      "metadata": {
        "id": "J2YEntczr-MR"
      }
    },
    {
      "cell_type": "code",
      "source": [
        "from keras.models import load_model\n",
        "model.save(\"model2.h5\")\n",
        "loaded_model = load_model(\"model2.h5\")\n"
      ],
      "metadata": {
        "id": "tp7VP9xC73cQ"
      },
      "execution_count": 34,
      "outputs": []
    },
    {
      "cell_type": "code",
      "source": [
        "path = \"/content/asl_alphabet_test/asl_alphabet_test/Z_test.jpg\"\n",
        "image_size=(28, 28)\n",
        "img = keras.preprocessing.image.load_img( path ,  color_mode=\"grayscale\" ,  target_size=image_size)\n",
        "img_array = keras.preprocessing.image.img_to_array(img)\n",
        "img_array = tf.expand_dims(img_array, 0)  # Create batch axis\n",
        "\n",
        "predictions = loaded_model.predict(img_array)\n",
        "result = str(np.argmax(predictions))\n",
        "\n",
        "\n",
        "plt.imshow(img_array.numpy().astype(\"uint8\").reshape((28, 28)))\n",
        "plt.title(\"Predicted Result \" + result )"
      ],
      "metadata": {
        "colab": {
          "base_uri": "https://localhost:8080/",
          "height": 298
        },
        "id": "dAB65HItvHoC",
        "outputId": "1fae71e7-42b4-4b17-8093-cd9eb61a695e"
      },
      "execution_count": 35,
      "outputs": [
        {
          "output_type": "execute_result",
          "data": {
            "text/plain": [
              "Text(0.5, 1.0, 'Predicted Result 25')"
            ]
          },
          "metadata": {},
          "execution_count": 35
        },
        {
          "output_type": "display_data",
          "data": {
            "text/plain": [
              "<Figure size 432x288 with 1 Axes>"
            ],
            "image/png": "[encoded data removed]"
          },
          "metadata": {
            "needs_background": "light"
          }
        }
      ]
    }
  ]
}